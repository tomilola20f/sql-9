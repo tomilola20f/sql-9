{
 "cells": [
  {
   "cell_type": "code",
   "execution_count": 1,
   "id": "80598f5a",
   "metadata": {},
   "outputs": [],
   "source": [
    "import pandas as pd"
   ]
  },
  {
   "cell_type": "code",
   "execution_count": 2,
   "id": "74d2a967",
   "metadata": {},
   "outputs": [
    {
     "name": "stdout",
     "output_type": "stream",
     "text": [
      "Defaulting to user installation because normal site-packages is not writeableNote: you may need to restart the kernel to use updated packages.\n",
      "Requirement already satisfied: mysql-connector-python in c:\\programdata\\anaconda3\\lib\\site-packages (8.0.30)\n",
      "Requirement already satisfied: protobuf<=3.20.1,>=3.11.0 in c:\\programdata\\anaconda3\\lib\\site-packages (from mysql-connector-python) (3.19.1)\n",
      "\n"
     ]
    }
   ],
   "source": [
    "pip install mysql-connector-python"
   ]
  },
  {
   "cell_type": "code",
   "execution_count": 3,
   "id": "604f1ab7",
   "metadata": {},
   "outputs": [],
   "source": [
    "import mysql.connector"
   ]
  },
  {
   "cell_type": "markdown",
   "id": "d093a978",
   "metadata": {},
   "source": [
    "mydb = mysql.connector.connect(\n",
    "                               host = \"localhost\",\n",
    "                               user = \"root\",\n",
    "                               password = \"Samuel1.\",\n",
    "                               database = \"sakila\" )"
   ]
  },
  {
   "cell_type": "code",
   "execution_count": 4,
   "id": "d114a711",
   "metadata": {},
   "outputs": [
    {
     "ename": "NameError",
     "evalue": "name 'mydb' is not defined",
     "output_type": "error",
     "traceback": [
      "\u001b[1;31m---------------------------------------------------------------------------\u001b[0m",
      "\u001b[1;31mNameError\u001b[0m                                 Traceback (most recent call last)",
      "Input \u001b[1;32mIn [4]\u001b[0m, in \u001b[0;36m<cell line: 1>\u001b[1;34m()\u001b[0m\n\u001b[1;32m----> 1\u001b[0m mycursor \u001b[38;5;241m=\u001b[39m \u001b[43mmydb\u001b[49m\u001b[38;5;241m.\u001b[39mcursor()\n",
      "\u001b[1;31mNameError\u001b[0m: name 'mydb' is not defined"
     ]
    }
   ],
   "source": [
    "mycursor = mydb.cursor()"
   ]
  },
  {
   "cell_type": "code",
   "execution_count": null,
   "id": "bcf16bba",
   "metadata": {},
   "outputs": [],
   "source": [
    "mycursor.execute(\"select distinct customer_id from rentals_may\")\n"
   ]
  },
  {
   "cell_type": "code",
   "execution_count": null,
   "id": "f6310638",
   "metadata": {},
   "outputs": [],
   "source": [
    "mycursor.execute(\"select distinct cuszomer_id from rentals_june\")"
   ]
  },
  {
   "cell_type": "code",
   "execution_count": null,
   "id": "7fb59629",
   "metadata": {},
   "outputs": [],
   "source": [
    "customerRentalForMay = mycursor.execute(\"select rental_id from rentals_may\")\n",
    "customerRentalForJune = mycursor.execute(\"select rental_id from rentals_june\")\n",
    "\n",
    "def moreOrLess:\n",
    "    if (customerRentalForMay > customerRentalForJune):\n",
    "        print(\"customers rented more in may than in june\");\n",
    "    else if (customerRentalForJune > customerRentalForMay ):\n",
    "        print(\"customers rented more in june than in may\");\n",
    "    "
   ]
  }
 ],
 "metadata": {
  "kernelspec": {
   "display_name": "Python 3 (ipykernel)",
   "language": "python",
   "name": "python3"
  },
  "language_info": {
   "codemirror_mode": {
    "name": "ipython",
    "version": 3
   },
   "file_extension": ".py",
   "mimetype": "text/x-python",
   "name": "python",
   "nbconvert_exporter": "python",
   "pygments_lexer": "ipython3",
   "version": "3.9.12"
  }
 },
 "nbformat": 4,
 "nbformat_minor": 5
}
