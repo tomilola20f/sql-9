{
 "cells": [
  {
   "cell_type": "code",
   "execution_count": 1,
   "id": "06a0ded7",
   "metadata": {},
   "outputs": [],
   "source": [
    "import pandas as pd"
   ]
  },
  {
   "cell_type": "code",
   "execution_count": 2,
   "id": "4c4c5a45",
   "metadata": {},
   "outputs": [
    {
     "name": "stdout",
     "output_type": "stream",
     "text": [
      "Defaulting to user installation because normal site-packages is not writeableNote: you may need to restart the kernel to use updated packages.\n",
      "Requirement already satisfied: mysql-connector-python in c:\\programdata\\anaconda3\\lib\\site-packages (8.0.30)\n",
      "Requirement already satisfied: protobuf<=3.20.1,>=3.11.0 in c:\\programdata\\anaconda3\\lib\\site-packages (from mysql-connector-python) (3.19.1)\n",
      "\n"
     ]
    }
   ],
   "source": [
    "pip install mysql-connector-python"
   ]
  },
  {
   "cell_type": "code",
   "execution_count": 3,
   "id": "9d534c8a",
   "metadata": {},
   "outputs": [],
   "source": [
    "import mysql.connector"
   ]
  },
  {
   "cell_type": "markdown",
   "id": "b1c93ee5",
   "metadata": {},
   "source": [
    "mydb = mysql.connector.connect(\n",
    "                               host = \"localhost\",\n",
    "                               user = \"root\",\n",
    "                               password = \"Samuel1.\",\n",
    "                               database = \"sakila\" )"
   ]
  },
  {
   "cell_type": "code",
   "execution_count": null,
   "id": "c4511982",
   "metadata": {},
   "outputs": [],
   "source": [
    "mycursor = mydb.cursor()"
   ]
  },
  {
   "cell_type": "code",
   "execution_count": null,
   "id": "c50f8967",
   "metadata": {},
   "outputs": [],
   "source": [
    "mycursor.execute(\"select distinct customer_id from rentals_may\")\n"
   ]
  },
  {
   "cell_type": "code",
   "execution_count": null,
   "id": "5865a088",
   "metadata": {},
   "outputs": [],
   "source": [
    "mycursor.execute(\"select distinct cuszomer_id from rentals_june\")"
   ]
  },
  {
   "cell_type": "code",
   "execution_count": null,
   "id": "ce787fb9",
   "metadata": {},
   "outputs": [],
   "source": [
    "customerRentalForMay = mycursor.execute(\"select rental_id from rentals_may\")\n",
    "customerRentalForJune = mycursor.execute(\"select rental_id from rentals_june\")\n",
    "\n",
    "def moreOrLess:\n",
    "    if (customerRentalForMay > customerRentalForJune):\n",
    "        print(\"customers rented more in may than in june\");\n",
    "    else if (customerRentalForJune > customerRentalForMay ):\n",
    "        print(\"customers rented more in june than in may\");\n",
    "    "
   ]
  }
 ],
 "metadata": {
  "kernelspec": {
   "display_name": "Python 3 (ipykernel)",
   "language": "python",
   "name": "python3"
  },
  "language_info": {
   "codemirror_mode": {
    "name": "ipython",
    "version": 3
   },
   "file_extension": ".py",
   "mimetype": "text/x-python",
   "name": "python",
   "nbconvert_exporter": "python",
   "pygments_lexer": "ipython3",
   "version": "3.9.12"
  }
 },
 "nbformat": 4,
 "nbformat_minor": 5
}
